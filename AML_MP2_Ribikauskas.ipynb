{
  "nbformat": 4,
  "nbformat_minor": 0,
  "metadata": {
    "colab": {
      "name": "AML_MP2_Ribikauskas.ipynb",
      "provenance": [],
      "collapsed_sections": [],
      "include_colab_link": true
    },
    "kernelspec": {
      "display_name": "Python 3",
      "language": "python",
      "name": "python3"
    },
    "language_info": {
      "codemirror_mode": {
        "name": "ipython",
        "version": 3
      },
      "file_extension": ".py",
      "mimetype": "text/x-python",
      "name": "python",
      "nbconvert_exporter": "python",
      "pygments_lexer": "ipython3",
      "version": "3.8.5"
    },
    "accelerator": "GPU"
  },
  "cells": [
    {
      "cell_type": "markdown",
      "metadata": {
        "id": "view-in-github",
        "colab_type": "text"
      },
      "source": [
        "<a href=\"https://colab.research.google.com/github/jonrib/AML-Project2/blob/main/AML_MP2_Ribikauskas.ipynb\" target=\"_parent\"><img src=\"https://colab.research.google.com/assets/colab-badge.svg\" alt=\"Open In Colab\"/></a>"
      ]
    },
    {
      "cell_type": "markdown",
      "metadata": {
        "id": "ccDPllcwTVza"
      },
      "source": [
        "# MP1: Deep Fast Fashion\n",
        "\n",
        "Date: 2020.11.21\n",
        "\n",
        "Author: © 2020 [Jonas Ribikauskas](https://www.linkedin.com/in/jonas-ribikauskas-4b8b5a138/)\n",
        "\n",
        "This notebook is part of an individual project for [KTU IF](https://fi.ktu.edu/)  [P176M010 Advanced Machine Learning](https://admissions.ktu.edu/programme/m-software-engineering/#P176M010) class led by [M. Lukoševičius](http://mantas.info/).\n",
        "\n",
        "The goal of this work is to create a deep learning model using [PyTorch](https://pytorch.org/), that is trained in under 3 minutes in [Google Colab](https://colab.research.google.com/) environment on [Fashion-MNIST](https://github.com/zalandoresearch/fashion-mnist) data, gives the best possible testing performance. \n",
        "\n",
        "This template is partially based on [this solution](\n",
        "https://medium.com/dair-ai/pytorch-1-2-quickstart-with-google-colab-6690a30c38d). \n",
        "\n",
        "You should select GPU in Google Colab: *Runtime -> Change runtime type -> Hardware accelerator: GPU*.\n",
        "\n",
        "The performance will be measured on *Tesla P100* graphics card which is the most popular in Google Colab machines, but you will not always get a machine with this GPU. Other GPUs: Tesla P4, Tesla T4 are similar in performance to P100 (slightly faster on average), and K80 is slower. The speed also varies slightly based on other factors, like the Colab cloud usage load.\n",
        "\n",
        "You should only eddit this notebook where it is allowed, comment on all of your improvements in markdown cells and in your presentation."
      ]
    },
    {
      "cell_type": "code",
      "metadata": {
        "id": "3U0gT-G-zVvX"
      },
      "source": [
        "import torch\n",
        "import torch.nn as nn\n",
        "import torch.nn.functional as F\n",
        "import torchvision\n",
        "import torchvision.transforms as transforms\n",
        "import numpy as np"
      ],
      "execution_count": 1,
      "outputs": []
    },
    {
      "cell_type": "markdown",
      "metadata": {
        "id": "lA3k3yPpGgOO"
      },
      "source": [
        "## Settings\n",
        "\n",
        "Do not eddit!\n",
        "\n",
        "On the reproducibility of experiments: https://pytorch.org/docs/stable/notes/randomness.html"
      ]
    },
    {
      "cell_type": "code",
      "metadata": {
        "id": "s5dWi0-1TfWX"
      },
      "source": [
        "## compute accuracy\n",
        "def get_accuracy(logit, target, batch_size):\n",
        "    ''' Obtain accuracy '''\n",
        "    corrects = (torch.max(logit, 1)[1].view(target.size()).data == target.data).sum()\n",
        "    accuracy = 1.0*corrects / batch_size\n",
        "    return accuracy.item()\n",
        "np.random.seed(42)\n",
        "torch.manual_seed(42)\n",
        "torch.backends.cudnn.deterministic = True\n",
        "torch.backends.cudnn.benchmark = False"
      ],
      "execution_count": 2,
      "outputs": []
    },
    {
      "cell_type": "markdown",
      "metadata": {
        "id": "zj4Gac5npZdG"
      },
      "source": [
        "## Information on the obtained hardware"
      ]
    },
    {
      "cell_type": "code",
      "metadata": {
        "colab": {
          "base_uri": "https://localhost:8080/"
        },
        "id": "tZCpG0E5pTL7",
        "scrolled": true,
        "outputId": "7a2c5d5d-f499-4303-e7bd-d2c9a717beac"
      },
      "source": [
        "print('Torch version: %s' %torch.__version__)\n",
        "if torch.cuda.is_available():\n",
        "    print('GPU: %s' %torch.cuda.get_device_name()) \n",
        "else:\n",
        "    print('GPU not available.')"
      ],
      "execution_count": 3,
      "outputs": [
        {
          "output_type": "stream",
          "text": [
            "Torch version: 1.7.0+cu101\n",
            "GPU: Tesla T4\n"
          ],
          "name": "stdout"
        }
      ]
    },
    {
      "cell_type": "code",
      "metadata": {
        "colab": {
          "base_uri": "https://localhost:8080/"
        },
        "id": "3osaZGtJnp_N",
        "outputId": "aa232ec9-6669-474d-8b16-2771ed84bbb9"
      },
      "source": [
        "!nvidia-smi"
      ],
      "execution_count": 4,
      "outputs": [
        {
          "output_type": "stream",
          "text": [
            "Sun Nov 22 00:50:44 2020       \n",
            "+-----------------------------------------------------------------------------+\n",
            "| NVIDIA-SMI 455.38       Driver Version: 418.67       CUDA Version: 10.1     |\n",
            "|-------------------------------+----------------------+----------------------+\n",
            "| GPU  Name        Persistence-M| Bus-Id        Disp.A | Volatile Uncorr. ECC |\n",
            "| Fan  Temp  Perf  Pwr:Usage/Cap|         Memory-Usage | GPU-Util  Compute M. |\n",
            "|                               |                      |               MIG M. |\n",
            "|===============================+======================+======================|\n",
            "|   0  Tesla T4            Off  | 00000000:00:04.0 Off |                    0 |\n",
            "| N/A   73C    P8    14W /  70W |     10MiB / 15079MiB |      0%      Default |\n",
            "|                               |                      |                 ERR! |\n",
            "+-------------------------------+----------------------+----------------------+\n",
            "                                                                               \n",
            "+-----------------------------------------------------------------------------+\n",
            "| Processes:                                                                  |\n",
            "|  GPU   GI   CI        PID   Type   Process name                  GPU Memory |\n",
            "|        ID   ID                                                   Usage      |\n",
            "|=============================================================================|\n",
            "|  No running processes found                                                 |\n",
            "+-----------------------------------------------------------------------------+\n"
          ],
          "name": "stdout"
        }
      ]
    },
    {
      "cell_type": "code",
      "metadata": {
        "colab": {
          "base_uri": "https://localhost:8080/"
        },
        "id": "sy49tK5qnZsL",
        "outputId": "c51da04e-0326-45bd-dc42-3b5a4c8063b4"
      },
      "source": [
        "!lscpu"
      ],
      "execution_count": 5,
      "outputs": [
        {
          "output_type": "stream",
          "text": [
            "Architecture:        x86_64\n",
            "CPU op-mode(s):      32-bit, 64-bit\n",
            "Byte Order:          Little Endian\n",
            "CPU(s):              2\n",
            "On-line CPU(s) list: 0,1\n",
            "Thread(s) per core:  2\n",
            "Core(s) per socket:  1\n",
            "Socket(s):           1\n",
            "NUMA node(s):        1\n",
            "Vendor ID:           GenuineIntel\n",
            "CPU family:          6\n",
            "Model:               79\n",
            "Model name:          Intel(R) Xeon(R) CPU @ 2.20GHz\n",
            "Stepping:            0\n",
            "CPU MHz:             2200.000\n",
            "BogoMIPS:            4400.00\n",
            "Hypervisor vendor:   KVM\n",
            "Virtualization type: full\n",
            "L1d cache:           32K\n",
            "L1i cache:           32K\n",
            "L2 cache:            256K\n",
            "L3 cache:            56320K\n",
            "NUMA node0 CPU(s):   0,1\n",
            "Flags:               fpu vme de pse tsc msr pae mce cx8 apic sep mtrr pge mca cmov pat pse36 clflush mmx fxsr sse sse2 ss ht syscall nx pdpe1gb rdtscp lm constant_tsc rep_good nopl xtopology nonstop_tsc cpuid tsc_known_freq pni pclmulqdq ssse3 fma cx16 pcid sse4_1 sse4_2 x2apic movbe popcnt aes xsave avx f16c rdrand hypervisor lahf_lm abm 3dnowprefetch invpcid_single ssbd ibrs ibpb stibp fsgsbase tsc_adjust bmi1 hle avx2 smep bmi2 erms invpcid rtm rdseed adx smap xsaveopt arat md_clear arch_capabilities\n"
          ],
          "name": "stdout"
        }
      ]
    },
    {
      "cell_type": "markdown",
      "metadata": {
        "id": "9oW8SVm96LS4"
      },
      "source": [
        "## Import the data\n",
        "\n",
        "You can change the data transformations but not the splitting (50000:10000) between training and validation in this notebook. But you can use a different type of validation with this data in our other codes to find the best model and its hyper-parameters, as long as you don't touch testing data. "
      ]
    },
    {
      "cell_type": "code",
      "metadata": {
        "colab": {
          "base_uri": "https://localhost:8080/"
        },
        "id": "2Qdkl01CUW6J",
        "outputId": "80a346d5-71f1-4f5c-9b00-225b1f4d0ac1"
      },
      "source": [
        "BATCH_SIZE = 32\n",
        "\n",
        "## transformations\n",
        "transform = transforms.Compose(\n",
        "    [transforms.ToTensor()])\n",
        "\n",
        "## download and load training dataset\n",
        "# do not change this!\n",
        "dataset = torchvision.datasets.FashionMNIST(root='./data', train=True,\n",
        "                                        download=True, transform=transform)\n",
        "trainset, validset = torch.utils.data.random_split(dataset, [50000,10000])\n",
        "\n",
        "trainloader = torch.utils.data.DataLoader(trainset, batch_size=BATCH_SIZE,\n",
        "                                          shuffle=True, num_workers=2)\n",
        "validloader = torch.utils.data.DataLoader(validset, batch_size=BATCH_SIZE,\n",
        "                                          shuffle=True, num_workers=2)\n",
        "\n",
        "len(trainset), len(validset)"
      ],
      "execution_count": 6,
      "outputs": [
        {
          "output_type": "execute_result",
          "data": {
            "text/plain": [
              "(50000, 10000)"
            ]
          },
          "metadata": {
            "tags": []
          },
          "execution_count": 6
        }
      ]
    },
    {
      "cell_type": "markdown",
      "metadata": {
        "id": "Elo1XfAQ6i5A"
      },
      "source": [
        "### Show a couple of data points"
      ]
    },
    {
      "cell_type": "code",
      "metadata": {
        "colab": {
          "base_uri": "https://localhost:8080/",
          "height": 220
        },
        "id": "r8BKYCX9Yz90",
        "outputId": "f267dd79-1946-4876-8d39-f90fce59674b"
      },
      "source": [
        "import matplotlib.pyplot as plt\n",
        "\n",
        "## functions to show an image\n",
        "def imshow(img):\n",
        "    #img = img / 2 + 0.5     # unnormalize\n",
        "    npimg = img.numpy()\n",
        "    plt.imshow(np.transpose(npimg, (1, 2, 0)))\n",
        "\n",
        "## get some random training images\n",
        "dataiter = iter(trainloader)\n",
        "images, labels = dataiter.next()\n",
        "\n",
        "## show images\n",
        "imshow(torchvision.utils.make_grid(images))"
      ],
      "execution_count": 7,
      "outputs": [
        {
          "output_type": "display_data",
          "data": {
            "image/png": "[encoded data removed]",
            "text/plain": [
              "<Figure size 432x288 with 1 Axes>"
            ]
          },
          "metadata": {
            "tags": [],
            "needs_background": "light"
          }
        }
      ]
    },
    {
      "cell_type": "markdown",
      "metadata": {
        "id": "V21TukzziSzN"
      },
      "source": [
        "## Report of the things tried and their validation results\n",
        "links where various ideas were observed: \n",
        "*   https://towardsdatascience.com/the-4-convolutional-neural-network-models-that-can-classify-your-fashion-images-9fe7f3e5399d\n",
        "*   https://www.kaggle.com/pankajj/fashion-mnist-with-pytorch-93-accuracy\n",
        "\n",
        "\n",
        "\n",
        "| Model       | Testing accuracy | Validation accuracy | Training Time | Description                                       | Was it better than previous |\n",
        "|-------------|------------------|---------------------|---------------|--------------------------------------------------|-----------------------------|\n",
        "| Conv2Model  | 0.9251           | 0.9148              | 101504.55 ms  | A CNN with 2 layers                                     | First actual attempt                      |\n",
        "| Conv2Model2 | 0.8637           | 0.8701              | 128997.31 ms  | A CNN with 2 layers (kernel size when pooling the same) | No. Significantly worse                        |\n",
        "| Conv2Model3 | 0.9123           | 0.8959              | 128997.31 ms  | A CNN with 2 layers (removed padding)  | Yes. But not overall                          |\n",
        "| Conv3Model  | 0.9314           | 0.9176              | 104588.16 ms  | A CNN with 3 layers                    | Yes. Overall best so far                              |\n",
        "| Conv2Model4 | 0.9270           | 0.9191              | 115640.93 ms  | A CNN with 2 layers (extra linear)     | Yes. But not in terms of time and not the best overall                     |\n",
        "\n",
        "Overall best: Conv3Model. 3 convolution layer CNN.\n",
        "Other things I tried changing:\n",
        "*   Data normalization only made results worse\n",
        "*   4 layer CNN. Did not manage to get it working properly. Perhaps the given images are too small.\n"
      ]
    },
    {
      "cell_type": "markdown",
      "metadata": {
        "id": "s8seE9KV6zZE"
      },
      "source": [
        "## Model no. 1\n",
        "\n",
        "This model is a 2 convolution layer CNN where each layer's kernel size is 5, padding is 2."
      ]
    },
    {
      "cell_type": "code",
      "metadata": {
        "id": "wjXAvayvY6Um"
      },
      "source": [
        "class Conv2Model(nn.Module):\n",
        "    def __init__(self):\n",
        "        super(Conv2Model, self).__init__()\n",
        "       \n",
        "        self.layer1 = nn.Sequential(\n",
        "            nn.Conv2d(1, 32, kernel_size=5, stride=1, padding=2),\n",
        "            nn.ReLU(),\n",
        "            nn.MaxPool2d(kernel_size=2, stride=2))\n",
        "        self.layer2 = nn.Sequential(\n",
        "            nn.Conv2d(32, 64, kernel_size=5, stride=1, padding=2),\n",
        "            nn.ReLU(),\n",
        "            nn.MaxPool2d(kernel_size=2, stride=2))\n",
        "        self.drop_out = nn.Dropout(0.25)\n",
        "        self.fc1 = nn.Linear(7 * 7 * 64, 1000)\n",
        "        self.fc2 = nn.Linear(1000, 10)\n",
        "    def forward(self, x): \n",
        "        out = self.layer1(x)\n",
        "        out = self.layer2(out)\n",
        "        out = out.reshape(out.size(0), -1)\n",
        "        out = self.drop_out(out)\n",
        "        out = self.fc1(out)\n",
        "        out = self.fc2(out)\n",
        "        return out"
      ],
      "execution_count": 8,
      "outputs": []
    },
    {
      "cell_type": "markdown",
      "metadata": {
        "id": "B6GmbVIBM-gB"
      },
      "source": [
        "## Model no. 2\n",
        "\n",
        "This model is a 2 convolution layer CNN where each layer's kernel size is 5, padding is 0."
      ]
    },
    {
      "cell_type": "code",
      "metadata": {
        "id": "An9EUm9wMYaH"
      },
      "source": [
        "class Conv2Model2(nn.Module):\n",
        "    def __init__(self):\n",
        "        super(Conv2Model2, self).__init__()\n",
        "       \n",
        "        self.layer1 = nn.Sequential(\n",
        "            nn.Conv2d(1, 32, kernel_size=5, stride=1, padding=0),\n",
        "            nn.ReLU(),\n",
        "            nn.MaxPool2d(kernel_size=5, stride=1))\n",
        "        self.layer2 = nn.Sequential(\n",
        "            nn.Conv2d(32, 64, kernel_size=5, stride=1, padding=0),\n",
        "            nn.ReLU(),\n",
        "            nn.MaxPool2d(kernel_size=5, stride=1))\n",
        "        self.drop_out = nn.Dropout(0.25)\n",
        "        self.fc1 = nn.Linear(12 * 12 * 64, 1000)\n",
        "        self.fc2 = nn.Linear(1000, 10)\n",
        "    def forward(self, x): \n",
        "        out = self.layer1(x)\n",
        "        out = self.layer2(out)\n",
        "        out = out.reshape(out.size(0), -1)\n",
        "        out = self.drop_out(out)\n",
        "        out = self.fc1(out)\n",
        "        out = self.fc2(out)\n",
        "        return out"
      ],
      "execution_count": 9,
      "outputs": []
    },
    {
      "cell_type": "markdown",
      "metadata": {
        "id": "nAy3PSmfNgc5"
      },
      "source": [
        "## Model no. 3\n",
        "\n",
        "This model is a 2 convolution layer CNN where each layer's kernel size is 5, padding is 0. Pooling kernel size is 2, stride is 2."
      ]
    },
    {
      "cell_type": "code",
      "metadata": {
        "id": "2ipZYgAeNtrU"
      },
      "source": [
        "class Conv2Model3(nn.Module):\n",
        "    def __init__(self):\n",
        "        super(Conv2Model3, self).__init__()\n",
        "       \n",
        "        self.layer1 = nn.Sequential(\n",
        "            nn.Conv2d(1, 32, kernel_size=5, stride=1, padding=0),\n",
        "            nn.ReLU(),\n",
        "            nn.MaxPool2d(kernel_size=2, stride=2))\n",
        "        self.layer2 = nn.Sequential(\n",
        "            nn.Conv2d(32, 64, kernel_size=5, stride=1, padding=0),\n",
        "            nn.ReLU(),\n",
        "            nn.MaxPool2d(kernel_size=2, stride=2))\n",
        "        self.drop_out = nn.Dropout(0.25)\n",
        "        self.fc1 = nn.Linear(4 * 4 * 64, 1000)\n",
        "        self.fc2 = nn.Linear(1000, 10)\n",
        "    def forward(self, x): \n",
        "        out = self.layer1(x)\n",
        "        out = self.layer2(out)\n",
        "        out = out.reshape(out.size(0), -1)\n",
        "        out = self.drop_out(out)\n",
        "        out = self.fc1(out)\n",
        "        out = self.fc2(out)\n",
        "        return out"
      ],
      "execution_count": 10,
      "outputs": []
    },
    {
      "cell_type": "markdown",
      "metadata": {
        "id": "wB8-nzi0PUEA"
      },
      "source": [
        "## Model no. 4\n",
        "\n",
        "This model is a 3 convolution layer CNN where each layer's kernel size is 5, padding is 2. Pooling kernel size is 2, stride is 2."
      ]
    },
    {
      "cell_type": "code",
      "metadata": {
        "id": "dI87ODJmPa-p"
      },
      "source": [
        "class Conv3Model(nn.Module):\n",
        "    def __init__(self):\n",
        "        super(Conv3Model, self).__init__()\n",
        "       \n",
        "        self.layer1 = nn.Sequential(\n",
        "            nn.Conv2d(1, 32, kernel_size=5, stride=1, padding=2),\n",
        "            nn.ReLU(),\n",
        "            nn.MaxPool2d(kernel_size=2, stride=2))\n",
        "        self.layer2 = nn.Sequential(\n",
        "            nn.Conv2d(32, 64, kernel_size=5, stride=1, padding=2),\n",
        "            nn.ReLU(),\n",
        "            nn.MaxPool2d(kernel_size=2, stride=2))\n",
        "        self.layer3 = nn.Sequential(\n",
        "            nn.Conv2d(64, 96, kernel_size=5, stride=1, padding=2),\n",
        "            nn.ReLU(),\n",
        "            nn.MaxPool2d(kernel_size=3, stride=2))\n",
        "        self.drop_out = nn.Dropout(0.25)\n",
        "        self.fc1 = nn.Linear(3 * 3 * 96, 1000)\n",
        "        self.fc2 = nn.Linear(1000, 10)\n",
        "    def forward(self, x): \n",
        "        out = self.layer1(x)\n",
        "        out = self.layer2(out)\n",
        "        out = self.layer3(out)\n",
        "        out = out.reshape(out.size(0), -1)\n",
        "        out = self.drop_out(out)\n",
        "        out = self.fc1(out)\n",
        "        out = self.fc2(out)\n",
        "        return out"
      ],
      "execution_count": 11,
      "outputs": []
    },
    {
      "cell_type": "markdown",
      "metadata": {
        "id": "ziyVlyBBVFX1"
      },
      "source": [
        "## Model no. 5\n",
        "\n",
        "This model is a 2 convolution layer CNN where each layer's kernel size is 5, padding is 2. Pooling kernel size is 2, stride is 2."
      ]
    },
    {
      "cell_type": "code",
      "metadata": {
        "id": "pRIT_OcRVShm"
      },
      "source": [
        "class Conv2Model4(nn.Module):\n",
        "    def __init__(self):\n",
        "        super(Conv2Model4, self).__init__()\n",
        "       \n",
        "        self.layer1 = nn.Sequential(\n",
        "            nn.Conv2d(1, 32, kernel_size=5, stride=1, padding=2),\n",
        "            nn.BatchNorm2d(32),\n",
        "            nn.ReLU(),\n",
        "            nn.MaxPool2d(kernel_size=2, stride=2))\n",
        "        self.layer2 = nn.Sequential(\n",
        "            nn.Conv2d(32, 64, kernel_size=5, stride=1, padding=2),\n",
        "            nn.BatchNorm2d(64),\n",
        "            nn.ReLU(),\n",
        "            nn.MaxPool2d(kernel_size=2, stride=2))\n",
        "        self.drop_out = nn.Dropout(0.25)\n",
        "        self.fc1 = nn.Linear(7 * 7 * 64, 600)\n",
        "        self.fc2 = nn.Linear(600, 120)\n",
        "        self.fc3 = nn.Linear(120, 10)\n",
        "    def forward(self, x): \n",
        "        out = self.layer1(x)\n",
        "        out = self.layer2(out)\n",
        "        out = out.reshape(out.size(0), -1)\n",
        "        out = self.drop_out(out)\n",
        "        out = self.fc1(out)\n",
        "        out = self.fc2(out)\n",
        "        out = self.fc3(out)\n",
        "        return out"
      ],
      "execution_count": 12,
      "outputs": []
    },
    {
      "cell_type": "markdown",
      "metadata": {
        "id": "l7TaMT-D7FcN"
      },
      "source": [
        "### Learning parameters\n",
        "\n",
        "You have a freedom here. But the model should stay the `model`. And the `num_epochs` should be such that training should not exceed 3 minutes on Tesla T100."
      ]
    },
    {
      "cell_type": "code",
      "metadata": {
        "id": "uEAQU3aVfCyJ"
      },
      "source": [
        "learning_rate = 0.001\n",
        "num_epochs = 8\n",
        "\n",
        "device = torch.device(\"cuda:0\" if torch.cuda.is_available() else \"cpu\")\n",
        "model = Conv3Model()\n",
        "model = model.to(device)\n",
        "criterion = nn.CrossEntropyLoss()\n",
        "optimizer = torch.optim.Adam(model.parameters(), lr=learning_rate)"
      ],
      "execution_count": 13,
      "outputs": []
    },
    {
      "cell_type": "markdown",
      "metadata": {
        "id": "JdK6UKXX8A4Z"
      },
      "source": [
        "## Train\n",
        "\n",
        "Do not edit! The training is only happening here."
      ]
    },
    {
      "cell_type": "code",
      "metadata": {
        "colab": {
          "base_uri": "https://localhost:8080/"
        },
        "id": "Mm0eXKPTfDwm",
        "scrolled": true,
        "outputId": "97aca5d8-564b-4156-a555-fd42cb21b05f"
      },
      "source": [
        "# timing. do not alter!\n",
        "start_timer = torch.cuda.Event(enable_timing=True)\n",
        "end_timer = torch.cuda.Event(enable_timing=True)\n",
        "start_timer.record()\n",
        "\n",
        "# training stats\n",
        "trainlosses = np.zeros(num_epochs)\n",
        "trainaccs = np.zeros(num_epochs)\n",
        "validaccs = np.zeros(num_epochs)\n",
        "\n",
        "for epoch in range(num_epochs):\n",
        "    train_running_loss = 0.0\n",
        "    train_acc = 0.0\n",
        "\n",
        "    model = model.train()\n",
        "\n",
        "    ## training step\n",
        "    for i, (images, labels) in enumerate(trainloader):\n",
        "        \n",
        "        images = images.to(device)\n",
        "        labels = labels.to(device)\n",
        "\n",
        "        ## forward + backprop + loss\n",
        "        logits = model(images)\n",
        "        loss = criterion(logits, labels)\n",
        "        optimizer.zero_grad()\n",
        "        loss.backward()\n",
        "\n",
        "        ## update model params\n",
        "        optimizer.step()\n",
        "\n",
        "        train_running_loss += loss.detach().item()\n",
        "        train_acc += get_accuracy(logits, labels, BATCH_SIZE)\n",
        "    \n",
        "    model.eval()\n",
        "    train_running_loss /= len(trainloader)\n",
        "    train_acc /= len(trainloader)\n",
        "\n",
        "    valid_acc = 0.0\n",
        "    for i, (images, labels) in enumerate(validloader, 0):\n",
        "        images = images.to(device)\n",
        "        labels = labels.to(device)\n",
        "        outputs = model(images)\n",
        "        valid_acc += get_accuracy(outputs, labels, BATCH_SIZE)\n",
        "    \n",
        "    valid_acc /= len(validloader)\n",
        "\n",
        "    print('Epoch: %d | Loss: %.4f | Train Accuracy: %.4f | Validation Accuracy: %.4f' \\\n",
        "          %(epoch, train_running_loss, train_acc, valid_acc)) \n",
        "            \n",
        "    trainlosses[epoch] = train_running_loss\n",
        "    trainaccs[epoch] = train_acc\n",
        "    validaccs[epoch] = valid_acc\n",
        "\n",
        "# timing. do not alter!\n",
        "end_timer.record()\n",
        "torch.cuda.synchronize()\n",
        "elapsed_time = start_timer.elapsed_time(end_timer)\n",
        "max_training_time = 3*60*1000\n",
        "print('Training time: %.2f ms (max %i ms.)' %(elapsed_time,max_training_time))  \n",
        "assert elapsed_time <= max_training_time, 'Training is too long!'"
      ],
      "execution_count": 14,
      "outputs": [
        {
          "output_type": "stream",
          "text": [
            "Epoch: 0 | Loss: 0.4584 | Train Accuracy: 0.8300 | Validation Accuracy: 0.8840\n",
            "Epoch: 1 | Loss: 0.3038 | Train Accuracy: 0.8882 | Validation Accuracy: 0.8990\n",
            "Epoch: 2 | Loss: 0.2616 | Train Accuracy: 0.9038 | Validation Accuracy: 0.8964\n",
            "Epoch: 3 | Loss: 0.2370 | Train Accuracy: 0.9125 | Validation Accuracy: 0.9044\n",
            "Epoch: 4 | Loss: 0.2171 | Train Accuracy: 0.9204 | Validation Accuracy: 0.9167\n",
            "Epoch: 5 | Loss: 0.1973 | Train Accuracy: 0.9263 | Validation Accuracy: 0.8977\n",
            "Epoch: 6 | Loss: 0.1787 | Train Accuracy: 0.9339 | Validation Accuracy: 0.9133\n",
            "Epoch: 7 | Loss: 0.1659 | Train Accuracy: 0.9377 | Validation Accuracy: 0.9104\n",
            "Training time: 106441.66 ms (max 180000 ms.)\n"
          ],
          "name": "stdout"
        }
      ]
    },
    {
      "cell_type": "markdown",
      "metadata": {
        "id": "yGWoIz71zVwY"
      },
      "source": [
        "Plot training loss, training and validation accuracy over training epochs."
      ]
    },
    {
      "cell_type": "code",
      "metadata": {
        "id": "Y58sO6t1O7ZL",
        "colab": {
          "base_uri": "https://localhost:8080/",
          "height": 623
        },
        "outputId": "9455f579-21d7-4e9d-cc52-a5b1c79b1e05"
      },
      "source": [
        "plt.figure(figsize=(10,10))\n",
        "plt.subplot(2,1,1)\n",
        "plt.plot(trainlosses)\n",
        "plt.legend(['Training loss']) \n",
        "plt.subplot(2,1,2)\n",
        "plt.plot(trainaccs)\n",
        "plt.plot(validaccs)\n",
        "plt.xlabel('Training epochs')\n",
        "plt.legend(['Training accuray','Validation accuray'])"
      ],
      "execution_count": 15,
      "outputs": [
        {
          "output_type": "execute_result",
          "data": {
            "text/plain": [
              "<matplotlib.legend.Legend at 0x7f8c8808ccc0>"
            ]
          },
          "metadata": {
            "tags": []
          },
          "execution_count": 15
        },
        {
          "output_type": "display_data",
          "data": {
            "image/png": "[encoded data removed]",
            "text/plain": [
              "<Figure size 720x720 with 2 Axes>"
            ]
          },
          "metadata": {
            "tags": [],
            "needs_background": "light"
          }
        }
      ]
    }
  ]
}